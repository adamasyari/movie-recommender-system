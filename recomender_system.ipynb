{
 "cells": [
  {
   "cell_type": "markdown",
   "id": "091590bf",
   "metadata": {},
   "source": [
    "### Download Dataset"
   ]
  },
  {
   "cell_type": "code",
   "execution_count": null,
   "id": "4b6c3d53",
   "metadata": {},
   "outputs": [],
   "source": [
    "import kagglehub\n",
    "\n",
    "# Download latest version\n",
    "path = kagglehub.dataset_download(\"grouplens/movielens-20m-dataset\")\n",
    "\n",
    "print(\"Path to dataset files:\", path)"
   ]
  },
  {
   "cell_type": "markdown",
   "id": "ba0a4751",
   "metadata": {},
   "source": [
    "### Importing Libraries"
   ]
  },
  {
   "cell_type": "code",
   "execution_count": 1,
   "id": "9f66837a",
   "metadata": {},
   "outputs": [],
   "source": [
    "import pandas as pd\n",
    "import numpy as np\n",
    "import tensorflow as tf\n",
    "from sklearn.model_selection import train_test_split"
   ]
  },
  {
   "cell_type": "markdown",
   "id": "04a23131",
   "metadata": {},
   "source": [
    "### Loading Dataset"
   ]
  },
  {
   "cell_type": "code",
   "execution_count": 2,
   "id": "20b72040",
   "metadata": {},
   "outputs": [],
   "source": [
    "df = pd.read_csv(\"data/rating.csv\")[:100_000]  \n",
    "df = df[['userId', 'movieId', 'rating']]"
   ]
  },
  {
   "cell_type": "markdown",
   "id": "f2aa0cc7",
   "metadata": {},
   "source": [
    "### Encode user and movie"
   ]
  },
  {
   "cell_type": "code",
   "execution_count": 3,
   "id": "6aa285e2",
   "metadata": {},
   "outputs": [],
   "source": [
    "user_ids = df['userId'].unique().tolist()\n",
    "movie_ids = df['movieId'].unique().tolist()\n",
    "\n",
    "user2user_encode = {x: i for i, x in enumerate(user_ids)}\n",
    "movie2movie_encode = {x: i for i, x in enumerate(movie_ids)}\n",
    "\n",
    "df['user'] = df['userId'].map(user2user_encode)\n",
    "df['movie'] = df['movieId'].map(movie2movie_encode)\n",
    "\n",
    "num_users = len(user2user_encode)\n",
    "num_movies = len(movie2movie_encode)"
   ]
  },
  {
   "cell_type": "markdown",
   "id": "e6542d75",
   "metadata": {},
   "source": [
    "### Train Test Split"
   ]
  },
  {
   "cell_type": "code",
   "execution_count": 4,
   "id": "955e1bbe",
   "metadata": {},
   "outputs": [],
   "source": [
    "X = df[['user', 'movie']].values\n",
    "y = df['rating'].values\n",
    "X_train, X_val, y_train, y_val = train_test_split(X, y, test_size=0.2, random_state=42)"
   ]
  },
  {
   "cell_type": "markdown",
   "id": "4af409e6",
   "metadata": {},
   "source": [
    "### Create Model"
   ]
  },
  {
   "cell_type": "code",
   "execution_count": 5,
   "id": "20a33f1d",
   "metadata": {},
   "outputs": [],
   "source": [
    "EMBEDDING_SIZE = 32\n",
    "\n",
    "class RecommenderNet(tf.keras.Model):\n",
    "    def __init__(self, num_users, num_movies, embedding_size):\n",
    "        super().__init__()\n",
    "        self.user_embedding = tf.keras.layers.Embedding(num_users, embedding_size)\n",
    "        self.movie_embedding = tf.keras.layers.Embedding(num_movies, embedding_size)\n",
    "        self.dense1 = tf.keras.layers.Dense(128, activation='relu')\n",
    "        self.dense2 = tf.keras.layers.Dense(64, activation='relu')\n",
    "        self.out = tf.keras.layers.Dense(1)\n",
    "\n",
    "    def call(self, inputs):\n",
    "        user_vector = self.user_embedding(inputs[:, 0])\n",
    "        movie_vector = self.movie_embedding(inputs[:, 1])\n",
    "        x = tf.concat([user_vector, movie_vector], axis=1)\n",
    "        x = self.dense1(x)\n",
    "        x = self.dense2(x)\n",
    "        return self.out(x)\n",
    "\n",
    "model = RecommenderNet(num_users, num_movies, EMBEDDING_SIZE)\n",
    "model.compile(optimizer='adam', loss='mean_squared_error', metrics=['mae'])"
   ]
  },
  {
   "cell_type": "markdown",
   "id": "e94542ff",
   "metadata": {},
   "source": [
    "### Training Model"
   ]
  },
  {
   "cell_type": "code",
   "execution_count": 6,
   "id": "50fe2a87",
   "metadata": {},
   "outputs": [
    {
     "name": "stdout",
     "output_type": "stream",
     "text": [
      "Epoch 1/10\n",
      "\u001b[1m157/157\u001b[0m \u001b[32m━━━━━━━━━━━━━━━━━━━━\u001b[0m\u001b[37m\u001b[0m \u001b[1m2s\u001b[0m 4ms/step - loss: 6.2977 - mae: 2.0466 - val_loss: 0.8263 - val_mae: 0.7052\n",
      "Epoch 2/10\n",
      "\u001b[1m157/157\u001b[0m \u001b[32m━━━━━━━━━━━━━━━━━━━━\u001b[0m\u001b[37m\u001b[0m \u001b[1m1s\u001b[0m 3ms/step - loss: 0.7824 - mae: 0.6866 - val_loss: 0.8104 - val_mae: 0.7033\n",
      "Epoch 3/10\n",
      "\u001b[1m157/157\u001b[0m \u001b[32m━━━━━━━━━━━━━━━━━━━━\u001b[0m\u001b[37m\u001b[0m \u001b[1m1s\u001b[0m 3ms/step - loss: 0.7373 - mae: 0.6634 - val_loss: 0.8098 - val_mae: 0.6967\n",
      "Epoch 4/10\n",
      "\u001b[1m157/157\u001b[0m \u001b[32m━━━━━━━━━━━━━━━━━━━━\u001b[0m\u001b[37m\u001b[0m \u001b[1m0s\u001b[0m 3ms/step - loss: 0.7301 - mae: 0.6576 - val_loss: 0.8080 - val_mae: 0.6968\n",
      "Epoch 5/10\n",
      "\u001b[1m157/157\u001b[0m \u001b[32m━━━━━━━━━━━━━━━━━━━━\u001b[0m\u001b[37m\u001b[0m \u001b[1m1s\u001b[0m 3ms/step - loss: 0.7075 - mae: 0.6466 - val_loss: 0.8042 - val_mae: 0.6996\n",
      "Epoch 6/10\n",
      "\u001b[1m157/157\u001b[0m \u001b[32m━━━━━━━━━━━━━━━━━━━━\u001b[0m\u001b[37m\u001b[0m \u001b[1m1s\u001b[0m 3ms/step - loss: 0.6946 - mae: 0.6390 - val_loss: 0.7977 - val_mae: 0.6927\n",
      "Epoch 7/10\n",
      "\u001b[1m157/157\u001b[0m \u001b[32m━━━━━━━━━━━━━━━━━━━━\u001b[0m\u001b[37m\u001b[0m \u001b[1m1s\u001b[0m 3ms/step - loss: 0.6631 - mae: 0.6223 - val_loss: 0.8127 - val_mae: 0.6914\n",
      "Epoch 8/10\n",
      "\u001b[1m157/157\u001b[0m \u001b[32m━━━━━━━━━━━━━━━━━━━━\u001b[0m\u001b[37m\u001b[0m \u001b[1m1s\u001b[0m 3ms/step - loss: 0.6362 - mae: 0.6073 - val_loss: 0.8010 - val_mae: 0.6919\n",
      "Epoch 9/10\n",
      "\u001b[1m157/157\u001b[0m \u001b[32m━━━━━━━━━━━━━━━━━━━━\u001b[0m\u001b[37m\u001b[0m \u001b[1m0s\u001b[0m 3ms/step - loss: 0.6015 - mae: 0.5881 - val_loss: 0.8130 - val_mae: 0.6959\n",
      "Epoch 10/10\n",
      "\u001b[1m157/157\u001b[0m \u001b[32m━━━━━━━━━━━━━━━━━━━━\u001b[0m\u001b[37m\u001b[0m \u001b[1m1s\u001b[0m 3ms/step - loss: 0.5583 - mae: 0.5654 - val_loss: 0.8243 - val_mae: 0.7051\n"
     ]
    }
   ],
   "source": [
    "history = model.fit(\n",
    "    x=X_train, \n",
    "    y=y_train, \n",
    "    validation_data=(X_val, y_val),\n",
    "    epochs=10, \n",
    "    batch_size=512 \n",
    ")"
   ]
  },
  {
   "cell_type": "code",
   "execution_count": 7,
   "id": "57229413",
   "metadata": {},
   "outputs": [
    {
     "data": {
      "image/png": "[encoded data removed]",
      "text/plain": [
       "<Figure size 1200x400 with 2 Axes>"
      ]
     },
     "metadata": {},
     "output_type": "display_data"
    }
   ],
   "source": [
    "import matplotlib.pyplot as plt\n",
    "\n",
    "# Visualisasi Loss\n",
    "plt.figure(figsize=(12, 4))\n",
    "\n",
    "plt.subplot(1, 2, 1)\n",
    "plt.plot(history.history['loss'], label='Training Loss', marker='o')\n",
    "plt.plot(history.history['val_loss'], label='Validation Loss', marker='o')\n",
    "plt.title('Loss over Epochs')\n",
    "plt.xlabel('Epoch')\n",
    "plt.ylabel('MSE Loss')\n",
    "plt.legend()\n",
    "\n",
    "# Visualisasi MAE\n",
    "plt.subplot(1, 2, 2)\n",
    "plt.plot(history.history['mae'], label='Training MAE', marker='o')\n",
    "plt.plot(history.history['val_mae'], label='Validation MAE', marker='o')\n",
    "plt.title('MAE over Epochs')\n",
    "plt.xlabel('Epoch')\n",
    "plt.ylabel('Mean Absolute Error')\n",
    "plt.legend()\n",
    "\n",
    "plt.tight_layout()\n",
    "plt.show()\n"
   ]
  },
  {
   "cell_type": "markdown",
   "id": "fde91905",
   "metadata": {},
   "source": [
    "### Testing Model"
   ]
  },
  {
   "cell_type": "code",
   "execution_count": 8,
   "id": "cd2f9a96",
   "metadata": {},
   "outputs": [
    {
     "name": "stdout",
     "output_type": "stream",
     "text": [
      "\u001b[1m252/252\u001b[0m \u001b[32m━━━━━━━━━━━━━━━━━━━━\u001b[0m\u001b[37m\u001b[0m \u001b[1m0s\u001b[0m 956us/step\n",
      "Recommended movies for user 1: [6841, 5833, 4200, 48741, 81562, 6696, 5470, 287, 5696, 1600]\n"
     ]
    }
   ],
   "source": [
    "def recommend_movies(user_id, top_n=10):\n",
    "    encoded_user_id = user2user_encode[user_id]\n",
    "    movie2movie_watched = df[df['userId'] == user_id]['movieId'].tolist()\n",
    "    movie_not_watched = list(set(movie_ids) - set(movie2movie_watched))\n",
    "    movie_not_watched_encoded = [movie2movie_encode[movie] for movie in movie_not_watched]\n",
    "    \n",
    "    user_array = np.array([encoded_user_id] * len(movie_not_watched_encoded))\n",
    "    movie_array = np.array(movie_not_watched_encoded)\n",
    "    predictions = model.predict(np.stack([user_array, movie_array], axis=1)).flatten()\n",
    "    top_indices = np.argsort(predictions)[-top_n:][::-1]\n",
    "    top_n_movies = [movie_ids[i] for i in top_indices]\n",
    "    return top_n_movies\n",
    "\n",
    "print(\"Recommended movies for user 1:\", recommend_movies(user_id=1))"
   ]
  },
  {
   "cell_type": "markdown",
   "id": "fb2c225a",
   "metadata": {},
   "source": [
    "### Checking Recomendation"
   ]
  },
  {
   "cell_type": "code",
   "execution_count": 9,
   "id": "fa660cbc",
   "metadata": {},
   "outputs": [],
   "source": [
    "movies_df = pd.read_csv(\"data/movie.csv\")"
   ]
  },
  {
   "cell_type": "code",
   "execution_count": 14,
   "id": "2b84593f",
   "metadata": {},
   "outputs": [
    {
     "name": "stdout",
     "output_type": "stream",
     "text": [
      "       movieId                                   title\n",
      "284        287               Nina Takes a Lover (1994)\n",
      "1548      1600                  She's So Lovely (1997)\n",
      "4106      4200                    Double Impact (1991)\n",
      "5373      5470  The Importance of Being Earnest (1952)\n",
      "5597      5696                     Urban Cowboy (1980)\n",
      "5734      5833                     Dog Soldiers (2002)\n",
      "6586      6696              Bollywood/Hollywood (2002)\n",
      "6731      6841                       Article 99 (1992)\n",
      "11397    48741        U.S. vs. John Lennon, The (2006)\n",
      "16118    81562                        127 Hours (2010)\n"
     ]
    }
   ],
   "source": [
    "recommended_ids = [6841, 5833, 4200, 48741, 81562, 6696, 5470, 287, 5696, 1600]\n",
    "recommend_movies_df = movies_df[movies_df['movieId'].isin(recommended_ids)]\n",
    "print(recommend_movies_df[['movieId', 'title']])"
   ]
  },
  {
   "cell_type": "code",
   "execution_count": 15,
   "id": "cadc22f4",
   "metadata": {},
   "outputs": [
    {
     "name": "stdout",
     "output_type": "stream",
     "text": [
      "✅ Semua rekomendasi adalah film baru untuk user ini.\n"
     ]
    }
   ],
   "source": [
    "watched = df[df['userId'] == 1]['movieId'].tolist()\n",
    "intersection = set(watched).intersection(set(recommended_ids))\n",
    "if intersection:\n",
    "    print(\"⚠️ Rekomendasi mengandung film yang sudah ditonton:\", intersection)\n",
    "else:\n",
    "    print(\"✅ Semua rekomendasi adalah film baru untuk user ini.\")"
   ]
  },
  {
   "cell_type": "code",
   "execution_count": 16,
   "id": "1a0d408f",
   "metadata": {},
   "outputs": [
    {
     "name": "stdout",
     "output_type": "stream",
     "text": [
      "🎬 Top 10 Rekomendasi untuk User 1:\n",
      "\n",
      "287: Nina Takes a Lover (1994)\n",
      "1600: She's So Lovely (1997)\n",
      "4200: Double Impact (1991)\n",
      "5470: The Importance of Being Earnest (1952)\n",
      "5696: Urban Cowboy (1980)\n",
      "5833: Dog Soldiers (2002)\n",
      "6696: Bollywood/Hollywood (2002)\n",
      "6841: Article 99 (1992)\n",
      "48741: U.S. vs. John Lennon, The (2006)\n",
      "81562: 127 Hours (2010)\n"
     ]
    }
   ],
   "source": [
    "recommended_titles = movies_df[movies_df['movieId'].isin(recommended_ids)]\n",
    "\n",
    "print(\"🎬 Top 10 Rekomendasi untuk User 1:\\n\")\n",
    "for i, row in recommended_titles.iterrows():\n",
    "    print(f\"{row['movieId']}: {row['title']}\")"
   ]
  },
  {
   "cell_type": "code",
   "execution_count": 24,
   "id": "68e7fbc4",
   "metadata": {},
   "outputs": [
    {
     "name": "stdout",
     "output_type": "stream",
     "text": [
      "    userId  movieId  rating            timestamp\n",
      "5        1      112     3.5  2004-09-10 03:09:00\n",
      "6        1      151     4.0  2004-09-10 03:08:54\n",
      "9        1      260     4.0  2005-04-02 23:33:46\n",
      "10       1      293     4.0  2005-04-02 23:31:43\n",
      "14       1      367     3.5  2005-04-02 23:53:00\n"
     ]
    }
   ],
   "source": [
    "ratings_df = pd.read_csv(\"data/rating.csv\")\n",
    "\n",
    "filtered_ratings = ratings_df[ratings_df['rating'] >= 3.5]\n",
    "\n",
    "# 3. Filter hanya genre 'Action'\n",
    "action_movies = movies_df[movies_df['genres'].str.contains('Action', na=False)]\n",
    "\n",
    "# 4. Gabungkan: hanya data rating film Action yang disukai\n",
    "filtered_df = filtered_ratings[filtered_ratings['movieId'].isin(action_movies['movieId'])]\n",
    "\n",
    "# Lihat contoh data hasil filter\n",
    "print(filtered_df.head())"
   ]
  },
  {
   "cell_type": "code",
   "execution_count": 25,
   "id": "2e996311",
   "metadata": {},
   "outputs": [
    {
     "data": {
      "text/html": [
       "<div>\n",
       "<style scoped>\n",
       "    .dataframe tbody tr th:only-of-type {\n",
       "        vertical-align: middle;\n",
       "    }\n",
       "\n",
       "    .dataframe tbody tr th {\n",
       "        vertical-align: top;\n",
       "    }\n",
       "\n",
       "    .dataframe thead th {\n",
       "        text-align: right;\n",
       "    }\n",
       "</style>\n",
       "<table border=\"1\" class=\"dataframe\">\n",
       "  <thead>\n",
       "    <tr style=\"text-align: right;\">\n",
       "      <th></th>\n",
       "      <th>movieId</th>\n",
       "      <th>title</th>\n",
       "      <th>genres</th>\n",
       "    </tr>\n",
       "  </thead>\n",
       "  <tbody>\n",
       "    <tr>\n",
       "      <th>5</th>\n",
       "      <td>6</td>\n",
       "      <td>Heat (1995)</td>\n",
       "      <td>Action|Crime|Thriller</td>\n",
       "    </tr>\n",
       "    <tr>\n",
       "      <th>8</th>\n",
       "      <td>9</td>\n",
       "      <td>Sudden Death (1995)</td>\n",
       "      <td>Action</td>\n",
       "    </tr>\n",
       "    <tr>\n",
       "      <th>9</th>\n",
       "      <td>10</td>\n",
       "      <td>GoldenEye (1995)</td>\n",
       "      <td>Action|Adventure|Thriller</td>\n",
       "    </tr>\n",
       "    <tr>\n",
       "      <th>14</th>\n",
       "      <td>15</td>\n",
       "      <td>Cutthroat Island (1995)</td>\n",
       "      <td>Action|Adventure|Romance</td>\n",
       "    </tr>\n",
       "    <tr>\n",
       "      <th>19</th>\n",
       "      <td>20</td>\n",
       "      <td>Money Train (1995)</td>\n",
       "      <td>Action|Comedy|Crime|Drama|Thriller</td>\n",
       "    </tr>\n",
       "    <tr>\n",
       "      <th>...</th>\n",
       "      <td>...</td>\n",
       "      <td>...</td>\n",
       "      <td>...</td>\n",
       "    </tr>\n",
       "    <tr>\n",
       "      <th>27168</th>\n",
       "      <td>130842</td>\n",
       "      <td>Power/Rangers (2015)</td>\n",
       "      <td>Action|Adventure|Sci-Fi</td>\n",
       "    </tr>\n",
       "    <tr>\n",
       "      <th>27187</th>\n",
       "      <td>130984</td>\n",
       "      <td>Santo vs. las lobas (1976)</td>\n",
       "      <td>Action|Fantasy|Horror</td>\n",
       "    </tr>\n",
       "    <tr>\n",
       "      <th>27198</th>\n",
       "      <td>131025</td>\n",
       "      <td>The Brass Legend (1956)</td>\n",
       "      <td>Action</td>\n",
       "    </tr>\n",
       "    <tr>\n",
       "      <th>27236</th>\n",
       "      <td>131122</td>\n",
       "      <td>Love Exposure (2007)</td>\n",
       "      <td>Action|Comedy|Drama|Romance</td>\n",
       "    </tr>\n",
       "    <tr>\n",
       "      <th>27264</th>\n",
       "      <td>131180</td>\n",
       "      <td>Dead Rising: Watchtower (2015)</td>\n",
       "      <td>Action|Horror|Thriller</td>\n",
       "    </tr>\n",
       "  </tbody>\n",
       "</table>\n",
       "<p>3520 rows × 3 columns</p>\n",
       "</div>"
      ],
      "text/plain": [
       "       movieId                           title  \\\n",
       "5            6                     Heat (1995)   \n",
       "8            9             Sudden Death (1995)   \n",
       "9           10                GoldenEye (1995)   \n",
       "14          15         Cutthroat Island (1995)   \n",
       "19          20              Money Train (1995)   \n",
       "...        ...                             ...   \n",
       "27168   130842            Power/Rangers (2015)   \n",
       "27187   130984      Santo vs. las lobas (1976)   \n",
       "27198   131025         The Brass Legend (1956)   \n",
       "27236   131122            Love Exposure (2007)   \n",
       "27264   131180  Dead Rising: Watchtower (2015)   \n",
       "\n",
       "                                   genres  \n",
       "5                   Action|Crime|Thriller  \n",
       "8                                  Action  \n",
       "9               Action|Adventure|Thriller  \n",
       "14               Action|Adventure|Romance  \n",
       "19     Action|Comedy|Crime|Drama|Thriller  \n",
       "...                                   ...  \n",
       "27168             Action|Adventure|Sci-Fi  \n",
       "27187               Action|Fantasy|Horror  \n",
       "27198                              Action  \n",
       "27236         Action|Comedy|Drama|Romance  \n",
       "27264              Action|Horror|Thriller  \n",
       "\n",
       "[3520 rows x 3 columns]"
      ]
     },
     "execution_count": 25,
     "metadata": {},
     "output_type": "execute_result"
    }
   ],
   "source": [
    "movies_df[movies_df['genres'].str.contains('Action')]"
   ]
  },
  {
   "cell_type": "code",
   "execution_count": 19,
   "id": "dac3d949",
   "metadata": {},
   "outputs": [
    {
     "name": "stdout",
     "output_type": "stream",
     "text": [
      "Hit Rate @10: 0.0\n"
     ]
    }
   ],
   "source": [
    "def predict_at_k(y_true, y_pred, k=10):\n",
    "    \n",
    "    y_pred_k = y_pred[:k]\n",
    "    hits = len(set(y_true).intersection(set(y_pred_k)))\n",
    "    return hits / k\n",
    "\n",
    "true_like_movies = ratings_df[(ratings_df['userId'] == 1) & (ratings_df['rating'] >= 3.5)]['movieId'].tolist()\n",
    "recomended = [6841, 5833, 4200, 48741, 81562, 6696, 5470, 287, 5696, 1600]\n",
    "\n",
    "print(\"Hit Rate @10:\", predict_at_k(true_like_movies, recomended, k=10))"
   ]
  },
  {
   "cell_type": "code",
   "execution_count": 26,
   "id": "cea157b8",
   "metadata": {},
   "outputs": [],
   "source": [
    "user2user_encoded = {x: i for i, x in enumerate(df['userId'].unique())}\n",
    "movie2movie_encoded = {x: i for i, x in enumerate(df['movieId'].unique())}\n",
    "\n",
    "user_encoded2user = {i: x for x, i in user2user_encoded.items()}\n",
    "movie_encoded2movie = {i: x for x, i in movie2movie_encoded.items()}"
   ]
  },
  {
   "cell_type": "code",
   "execution_count": 27,
   "id": "4343d545",
   "metadata": {},
   "outputs": [
    {
     "name": "stdout",
     "output_type": "stream",
     "text": [
      "UserId asli: 1\n",
      "UserId encoded: 0\n",
      "Decoded kembali: 1\n",
      "MovieId asli: 2\n",
      "MovieId encoded: 0\n",
      "Decoded kembali: 2\n"
     ]
    }
   ],
   "source": [
    "# Contoh verifikasi user\n",
    "print(\"UserId asli:\", df['userId'].iloc[0])\n",
    "print(\"UserId encoded:\", user2user_encoded[df['userId'].iloc[0]])\n",
    "print(\"Decoded kembali:\", user_encoded2user[user2user_encoded[df['userId'].iloc[0]]])\n",
    "\n",
    "# Contoh verifikasi movie\n",
    "print(\"MovieId asli:\", df['movieId'].iloc[0])\n",
    "print(\"MovieId encoded:\", movie2movie_encoded[df['movieId'].iloc[0]])\n",
    "print(\"Decoded kembali:\", movie_encoded2movie[movie2movie_encoded[df['movieId'].iloc[0]]])\n"
   ]
  },
  {
   "cell_type": "code",
   "execution_count": 28,
   "id": "ce521486",
   "metadata": {},
   "outputs": [],
   "source": [
    "# Setelah prediksi\n",
    "recommended_encoded = [10, 21, 15, 87]  # hasil dari model (encoded movieId)\n",
    "\n",
    "# Konversi kembali ke movieId asli\n",
    "recommended_movie_ids = [movie_encoded2movie[i] for i in recommended_encoded]\n"
   ]
  },
  {
   "cell_type": "code",
   "execution_count": 29,
   "id": "dc9d5b6f",
   "metadata": {},
   "outputs": [
    {
     "name": "stdout",
     "output_type": "stream",
     "text": [
      "Precision@10: 0.9\n"
     ]
    }
   ],
   "source": [
    "# Buat mapping dari DataFrame\n",
    "user2user_encoded = {x: i for i, x in enumerate(ratings_df['userId'].unique())}\n",
    "movie2movie_encoded = {x: i for i, x in enumerate(ratings_df['movieId'].unique())}\n",
    "\n",
    "user_encoded2user = {i: x for x, i in user2user_encoded.items()}\n",
    "movie_encoded2movie = {i: x for x, i in movie2movie_encoded.items()}\n",
    "\n",
    "# Ambil user 1 → cari encoded id\n",
    "user_id_real = 1\n",
    "user_id_encoded = user2user_encoded[user_id_real]\n",
    "\n",
    "# Ambil movie yang disukai user 1\n",
    "liked_movies = ratings_df[\n",
    "    (ratings_df['userId'] == user_id_real) & (ratings_df['rating'] >= 3.5)\n",
    "]['movieId'].tolist()\n",
    "\n",
    "# Rekomendasi model (encoded)\n",
    "recommended_encoded = [10, 21, 15, 87, 49, 6, 3, 90, 18, 20]\n",
    "\n",
    "# Decode ke movieId asli\n",
    "recommended_movie_ids = [movie_encoded2movie[i] for i in recommended_encoded]\n",
    "\n",
    "# Hitung precision@10\n",
    "def precision_at_k(y_true, y_pred, k=10):\n",
    "    y_pred_k = y_pred[:k]\n",
    "    hits = len(set(y_true).intersection(set(y_pred_k)))\n",
    "    return hits / k\n",
    "\n",
    "score = precision_at_k(liked_movies, recommended_movie_ids, k=10)\n",
    "print(\"Precision@10:\", score)\n"
   ]
  },
  {
   "cell_type": "code",
   "execution_count": 31,
   "id": "67fd8f0b",
   "metadata": {},
   "outputs": [],
   "source": [
    "import numpy as np\n",
    "\n",
    "def get_recommendation_for_user(encoded_user_id, top_k=10):\n",
    "    # Ambil semua encoded movieId\n",
    "    movie_ids_encoded = np.array(list(movie_encoded2movie.keys()))\n",
    "\n",
    "    # Duplikasi user_id sebanyak jumlah movie\n",
    "    user_ids = np.array([encoded_user_id] * len(movie_ids_encoded))\n",
    "\n",
    "    # Prediksi rating dari model\n",
    "    predictions = model.predict([user_ids, movie_ids_encoded], verbose=0).flatten()\n",
    "\n",
    "    # Ambil top K indeks film dengan rating tertinggi\n",
    "    top_indices = predictions.argsort()[-top_k:][::-1]  # descending\n",
    "\n",
    "    # Ambil movieId encoded\n",
    "    top_movie_encoded = movie_ids_encoded[top_indices]\n",
    "\n",
    "    return top_movie_encoded  # encoded, belum dikonversi ke movieId asli\n"
   ]
  },
  {
   "cell_type": "code",
   "execution_count": null,
   "id": "8c9fa6af",
   "metadata": {},
   "outputs": [],
   "source": [
    "import random\n",
    "\n",
    "sample_users = random.sample(list(ratings_df['userId'].unique()), 10)\n",
    "results = []\n",
    "\n",
    "for uid in sample_users:\n",
    "    # validasi bahwa user cukup data\n",
    "    liked = ratings_df[(ratings_df['userId'] == uid) & (ratings_df['rating'] >= 3.5)]['movieId'].tolist()\n",
    "    if len(liked) < 5:\n",
    "        continue\n",
    "\n",
    "    encoded_uid = user2user_encoded.get(uid)\n",
    "    if encoded_uid is None:\n",
    "        continue\n",
    "\n",
    "    recommended_encoded = get_recommendation_for_user(encoded_uid)  # ganti sesuai fungsi kamu\n",
    "    recommended_real = [movie_encoded2movie[i] for i in recommended_encoded]\n",
    "\n",
    "    score = precision_at_k(liked, recommended_real, k=10)\n",
    "    results.append(score)\n",
    "\n",
    "print(f\"📊 Rata-rata Precision@10 untuk 10 user: {sum(results)/len(results):.2f}\")"
   ]
  },
  {
   "cell_type": "code",
   "execution_count": 21,
   "id": "b3463982",
   "metadata": {},
   "outputs": [],
   "source": [
    "def get_top_n_recommendations(user_id, model, user_mapping, movie_mapping, n=10):\n",
    "    inverse_movie_mapping = {v: k for k, v in movie_mapping.items()}\n",
    "    inverse_user_mapping = {v: k for k, v in user_mapping.items()}\n",
    "    \n",
    "    all_movie_ids = set(movie_mapping.values())\n",
    "    \n",
    "    watched_movie_ids = set(ratings_df[ratings_df['userId'] == inverse_user_mapping [user_id]]['movieId'].map(movie_mapping))\n",
    "    \n",
    "    candidate_movie_ids = list(all_movie_ids - watched_movie_ids)\n",
    "    \n",
    "    user_input = np.full((len(candidate_movie_ids), user_id))\n",
    "    movie_input = np.array(candidate_movie_ids)\n",
    "    \n",
    "    predictions = model.predict([user_input, movie_input], verbose=0)\n",
    "    top_n_idx = predictions.flatten().argsort()[-n:][::-1]\n",
    "\n",
    "    top_movie_ids = [candidate_movie_ids[i] for i in top_n_idx]\n",
    "    top_original_ids = [inverse_movie_mapping[mid] for mid in top_movie_ids]\n",
    "\n",
    "    # Ambil judul\n",
    "    top_movies = movies_df[movies_df['movieId'].isin(top_original_ids)]\n",
    "\n",
    "    return top_movies[['movieId', 'title']].reset_index(drop=True)"
   ]
  },
  {
   "cell_type": "code",
   "execution_count": null,
   "id": "a7411b48",
   "metadata": {},
   "outputs": [],
   "source": [
    "recomendations = get_top_n_recommendations(\n",
    "    user_id=1, \n",
    "    model=model, \n",
    "    user_mapping=user_id_mapping, \n",
    "    movie_mapping=movie_id_mapping, \n",
    "    n=10\n",
    ")\n",
    "\n",
    "print(\"Top 10 Recommendations for User 1:\", recomendations)"
   ]
  }
 ],
 "metadata": {
  "kernelspec": {
   "display_name": "Python 3",
   "language": "python",
   "name": "python3"
  },
  "language_info": {
   "codemirror_mode": {
    "name": "ipython",
    "version": 3
   },
   "file_extension": ".py",
   "mimetype": "text/x-python",
   "name": "python",
   "nbconvert_exporter": "python",
   "pygments_lexer": "ipython3",
   "version": "3.11.6"
  }
 },
 "nbformat": 4,
 "nbformat_minor": 5
}
