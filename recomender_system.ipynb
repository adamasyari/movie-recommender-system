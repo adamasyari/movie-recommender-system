{
 "cells": [
  {
   "cell_type": "markdown",
   "id": "091590bf",
   "metadata": {},
   "source": [
    "### Download Dataset"
   ]
  },
  {
   "cell_type": "code",
   "execution_count": 1,
   "id": "4b6c3d53",
   "metadata": {},
   "outputs": [
    {
     "name": "stdout",
     "output_type": "stream",
     "text": [
      "Downloading from https://www.kaggle.com/api/v1/datasets/download/grouplens/movielens-20m-dataset?dataset_version_number=1...\n"
     ]
    },
    {
     "name": "stderr",
     "output_type": "stream",
     "text": [
      "100%|██████████| 195M/195M [03:00<00:00, 1.14MB/s] "
     ]
    },
    {
     "name": "stdout",
     "output_type": "stream",
     "text": [
      "Extracting files...\n"
     ]
    },
    {
     "name": "stderr",
     "output_type": "stream",
     "text": [
      "\n"
     ]
    },
    {
     "name": "stdout",
     "output_type": "stream",
     "text": [
      "Path to dataset files: C:\\Users\\LENOVO GAMING 3\\.cache\\kagglehub\\datasets\\grouplens\\movielens-20m-dataset\\versions\\1\n"
     ]
    }
   ],
   "source": [
    "import kagglehub\n",
    "\n",
    "# Download latest version\n",
    "path = kagglehub.dataset_download(\"grouplens/movielens-20m-dataset\")\n",
    "\n",
    "print(\"Path to dataset files:\", path)"
   ]
  },
  {
   "cell_type": "markdown",
   "id": "ba0a4751",
   "metadata": {},
   "source": [
    "### Importing Libraries"
   ]
  },
  {
   "cell_type": "code",
   "execution_count": 3,
   "id": "9f66837a",
   "metadata": {},
   "outputs": [],
   "source": [
    "import pandas as pd\n",
    "import numpy as np\n",
    "import tensorflow as tf\n",
    "from sklearn.model_selection import train_test_split"
   ]
  },
  {
   "cell_type": "markdown",
   "id": "04a23131",
   "metadata": {},
   "source": [
    "### Loading Dataset"
   ]
  },
  {
   "cell_type": "code",
   "execution_count": 14,
   "id": "20b72040",
   "metadata": {},
   "outputs": [],
   "source": [
    "df = pd.read_csv(\"data/rating.csv\")[:100_000]  \n",
    "df = df[['userId', 'movieId', 'rating']]"
   ]
  },
  {
   "cell_type": "markdown",
   "id": "f2aa0cc7",
   "metadata": {},
   "source": [
    "### Encode user and movie"
   ]
  },
  {
   "cell_type": "code",
   "execution_count": 20,
   "id": "6aa285e2",
   "metadata": {},
   "outputs": [],
   "source": [
    "user_ids = df['userId'].unique().tolist()\n",
    "movie_ids = df['movieId'].unique().tolist()\n",
    "\n",
    "user2user_encode = {x: i for i, x in enumerate(user_ids)}\n",
    "movie2movie_encode = {x: i for i, x in enumerate(movie_ids)}\n",
    "\n",
    "df['user'] = df['userId'].map(user2user_encode)\n",
    "df['movie'] = df['movieId'].map(movie2movie_encode)\n",
    "\n",
    "num_users = len(user2user_encode)\n",
    "num_movies = len(movie2movie_encode)"
   ]
  },
  {
   "cell_type": "markdown",
   "id": "e6542d75",
   "metadata": {},
   "source": [
    "### Train Test Split"
   ]
  },
  {
   "cell_type": "code",
   "execution_count": 21,
   "id": "955e1bbe",
   "metadata": {},
   "outputs": [],
   "source": [
    "X = df[['user', 'movie']].values\n",
    "y = df['rating'].values\n",
    "X_train, X_val, y_train, y_val = train_test_split(X, y, test_size=0.2, random_state=42)"
   ]
  },
  {
   "cell_type": "markdown",
   "id": "4af409e6",
   "metadata": {},
   "source": [
    "### Create Model"
   ]
  },
  {
   "cell_type": "code",
   "execution_count": 22,
   "id": "20a33f1d",
   "metadata": {},
   "outputs": [],
   "source": [
    "EMBEDDING_SIZE = 32\n",
    "\n",
    "class RecommenderNet(tf.keras.Model):\n",
    "    def __init__(self, num_users, num_movies, embedding_size):\n",
    "        super().__init__()\n",
    "        self.user_embedding = tf.keras.layers.Embedding(num_users, embedding_size)\n",
    "        self.movie_embedding = tf.keras.layers.Embedding(num_movies, embedding_size)\n",
    "        self.dense1 = tf.keras.layers.Dense(128, activation='relu')\n",
    "        self.dense2 = tf.keras.layers.Dense(64, activation='relu')\n",
    "        self.out = tf.keras.layers.Dense(1)\n",
    "\n",
    "    def call(self, inputs):\n",
    "        user_vector = self.user_embedding(inputs[:, 0])\n",
    "        movie_vector = self.movie_embedding(inputs[:, 1])\n",
    "        x = tf.concat([user_vector, movie_vector], axis=1)\n",
    "        x = self.dense1(x)\n",
    "        x = self.dense2(x)\n",
    "        return self.out(x)\n",
    "\n",
    "model = RecommenderNet(num_users, num_movies, EMBEDDING_SIZE)\n",
    "model.compile(optimizer='adam', loss='mean_squared_error', metrics=['mae'])"
   ]
  },
  {
   "cell_type": "markdown",
   "id": "e94542ff",
   "metadata": {},
   "source": [
    "### Training Model"
   ]
  },
  {
   "cell_type": "code",
   "execution_count": 25,
   "id": "50fe2a87",
   "metadata": {},
   "outputs": [
    {
     "name": "stdout",
     "output_type": "stream",
     "text": [
      "Epoch 1/10\n",
      "\u001b[1m157/157\u001b[0m \u001b[32m━━━━━━━━━━━━━━━━━━━━\u001b[0m\u001b[37m\u001b[0m \u001b[1m1s\u001b[0m 4ms/step - loss: 0.7001 - mae: 0.6436 - val_loss: 0.7984 - val_mae: 0.6947\n",
      "Epoch 2/10\n",
      "\u001b[1m157/157\u001b[0m \u001b[32m━━━━━━━━━━━━━━━━━━━━\u001b[0m\u001b[37m\u001b[0m \u001b[1m0s\u001b[0m 3ms/step - loss: 0.6858 - mae: 0.6342 - val_loss: 0.7959 - val_mae: 0.6918\n",
      "Epoch 3/10\n",
      "\u001b[1m157/157\u001b[0m \u001b[32m━━━━━━━━━━━━━━━━━━━━\u001b[0m\u001b[37m\u001b[0m \u001b[1m1s\u001b[0m 3ms/step - loss: 0.6610 - mae: 0.6206 - val_loss: 0.7977 - val_mae: 0.6923\n",
      "Epoch 4/10\n",
      "\u001b[1m157/157\u001b[0m \u001b[32m━━━━━━━━━━━━━━━━━━━━\u001b[0m\u001b[37m\u001b[0m \u001b[1m0s\u001b[0m 3ms/step - loss: 0.6397 - mae: 0.6090 - val_loss: 0.7978 - val_mae: 0.6904\n",
      "Epoch 5/10\n",
      "\u001b[1m157/157\u001b[0m \u001b[32m━━━━━━━━━━━━━━━━━━━━\u001b[0m\u001b[37m\u001b[0m \u001b[1m0s\u001b[0m 3ms/step - loss: 0.6112 - mae: 0.5956 - val_loss: 0.8096 - val_mae: 0.6945\n",
      "Epoch 6/10\n",
      "\u001b[1m157/157\u001b[0m \u001b[32m━━━━━━━━━━━━━━━━━━━━\u001b[0m\u001b[37m\u001b[0m \u001b[1m0s\u001b[0m 3ms/step - loss: 0.5837 - mae: 0.5789 - val_loss: 0.8160 - val_mae: 0.6956\n",
      "Epoch 7/10\n",
      "\u001b[1m157/157\u001b[0m \u001b[32m━━━━━━━━━━━━━━━━━━━━\u001b[0m\u001b[37m\u001b[0m \u001b[1m1s\u001b[0m 3ms/step - loss: 0.5491 - mae: 0.5615 - val_loss: 0.8252 - val_mae: 0.6995\n",
      "Epoch 8/10\n",
      "\u001b[1m157/157\u001b[0m \u001b[32m━━━━━━━━━━━━━━━━━━━━\u001b[0m\u001b[37m\u001b[0m \u001b[1m1s\u001b[0m 3ms/step - loss: 0.5216 - mae: 0.5458 - val_loss: 0.8435 - val_mae: 0.7052\n",
      "Epoch 9/10\n",
      "\u001b[1m157/157\u001b[0m \u001b[32m━━━━━━━━━━━━━━━━━━━━\u001b[0m\u001b[37m\u001b[0m \u001b[1m1s\u001b[0m 3ms/step - loss: 0.4929 - mae: 0.5271 - val_loss: 0.8494 - val_mae: 0.7081\n",
      "Epoch 10/10\n",
      "\u001b[1m157/157\u001b[0m \u001b[32m━━━━━━━━━━━━━━━━━━━━\u001b[0m\u001b[37m\u001b[0m \u001b[1m1s\u001b[0m 3ms/step - loss: 0.4625 - mae: 0.5092 - val_loss: 0.8672 - val_mae: 0.7168\n"
     ]
    }
   ],
   "source": [
    "history = model.fit(\n",
    "    x=X_train, \n",
    "    y=y_train, \n",
    "    validation_data=(X_val, y_val),\n",
    "    epochs=10, \n",
    "    batch_size=512 \n",
    ")"
   ]
  },
  {
   "cell_type": "code",
   "execution_count": 27,
   "id": "57229413",
   "metadata": {},
   "outputs": [
    {
     "data": {
      "image/png": "[encoded data removed]",
      "text/plain": [
       "<Figure size 1200x400 with 2 Axes>"
      ]
     },
     "metadata": {},
     "output_type": "display_data"
    }
   ],
   "source": [
    "import matplotlib.pyplot as plt\n",
    "\n",
    "# Visualisasi Loss\n",
    "plt.figure(figsize=(12, 4))\n",
    "\n",
    "plt.subplot(1, 2, 1)\n",
    "plt.plot(history.history['loss'], label='Training Loss', marker='o')\n",
    "plt.plot(history.history['val_loss'], label='Validation Loss', marker='o')\n",
    "plt.title('Loss over Epochs')\n",
    "plt.xlabel('Epoch')\n",
    "plt.ylabel('MSE Loss')\n",
    "plt.legend()\n",
    "\n",
    "# Visualisasi MAE\n",
    "plt.subplot(1, 2, 2)\n",
    "plt.plot(history.history['mae'], label='Training MAE', marker='o')\n",
    "plt.plot(history.history['val_mae'], label='Validation MAE', marker='o')\n",
    "plt.title('MAE over Epochs')\n",
    "plt.xlabel('Epoch')\n",
    "plt.ylabel('Mean Absolute Error')\n",
    "plt.legend()\n",
    "\n",
    "plt.tight_layout()\n",
    "plt.show()\n"
   ]
  },
  {
   "cell_type": "markdown",
   "id": "fde91905",
   "metadata": {},
   "source": [
    "### Testing Model"
   ]
  },
  {
   "cell_type": "code",
   "execution_count": null,
   "id": "cd2f9a96",
   "metadata": {},
   "outputs": [
    {
     "name": "stdout",
     "output_type": "stream",
     "text": [
      "\u001b[1m256/256\u001b[0m \u001b[32m━━━━━━━━━━━━━━━━━━━━\u001b[0m\u001b[37m\u001b[0m \u001b[1m0s\u001b[0m 616us/step\n",
      "Recommended movies for user 1: [3352, 5313, 1147, 3667, 2652, 6570, 909, 7469, 5101, 1869]\n"
     ]
    }
   ],
   "source": [
    "def recommend_movies(user_id, top_n=10):\n",
    "    encoded_user_id = user2user_encode[user_id]\n",
    "    movie2movie_watched = df[df['userId'] == user_id]['movieId'].tolist()\n",
    "    movie_not_watched = list(set(movie_ids) - set(movie2movie_watched))\n",
    "    movie_not_watched_encoded = [movie2movie_encode[movie] for movie in movie_not_watched]\n",
    "    \n",
    "    user_array = np.array([encoded_user_id] * len(movie_not_watched_encoded))\n",
    "    movie_array = np.array(movie_not_watched_encoded)\n",
    "    predictions = model.predict(np.stack([user_array, movie_array], axis=1)).flatten()\n",
    "    top_indices = np.argsort(predictions)[-top_n:][::-1]\n",
    "    top_n_movies = [movie_ids[i] for i in top_indices]\n",
    "    return top_n_movies\n",
    "\n",
    "print(\"Recommended movies for user 1:\", recommend_movies(user_id=1))"
   ]
  },
  {
   "cell_type": "markdown",
   "id": "fb2c225a",
   "metadata": {},
   "source": [
    "### Checking Recomendation"
   ]
  },
  {
   "cell_type": "code",
   "execution_count": 29,
   "id": "fa660cbc",
   "metadata": {},
   "outputs": [],
   "source": [
    "movies_df = pd.read_csv(\"data/movie.csv\")"
   ]
  },
  {
   "cell_type": "code",
   "execution_count": 30,
   "id": "2b84593f",
   "metadata": {},
   "outputs": [
    {
     "name": "stdout",
     "output_type": "stream",
     "text": [
      "      movieId                                       title\n",
      "892       909                       Apartment, The (1960)\n",
      "1124     1147                   When We Were Kings (1996)\n",
      "1785     1869                            Black Dog (1998)\n",
      "2566     2652           Curse of Frankenstein, The (1957)\n",
      "3265     3352                      Brown's Requiem (1998)\n",
      "3576     3667                           Rent-A-Cop (1988)\n",
      "5005     5101           Richard Pryor Here and Now (1983)\n",
      "5216     5313                   Scorpion King, The (2002)\n",
      "6460     6570  Lucía, Lucía (Hija del caníbal, La) (2003)\n"
     ]
    }
   ],
   "source": [
    "recommended_ids = [3352, 5313, 1147, 3667, 2652, 6570, 909, 7469, 5101, 1869]\n",
    "recommend_movies_df = movies_df[movies_df['movieId'].isin(recommended_ids)]\n",
    "print(recommend_movies_df[['movieId', 'title']])"
   ]
  },
  {
   "cell_type": "code",
   "execution_count": 31,
   "id": "cadc22f4",
   "metadata": {},
   "outputs": [
    {
     "name": "stdout",
     "output_type": "stream",
     "text": [
      "✅ Semua rekomendasi adalah film baru untuk user ini.\n"
     ]
    }
   ],
   "source": [
    "watched = df[df['userId'] == 1]['movieId'].tolist()\n",
    "intersection = set(watched).intersection(set(recommended_ids))\n",
    "if intersection:\n",
    "    print(\"⚠️ Rekomendasi mengandung film yang sudah ditonton:\", intersection)\n",
    "else:\n",
    "    print(\"✅ Semua rekomendasi adalah film baru untuk user ini.\")"
   ]
  },
  {
   "cell_type": "code",
   "execution_count": 32,
   "id": "1a0d408f",
   "metadata": {},
   "outputs": [
    {
     "name": "stdout",
     "output_type": "stream",
     "text": [
      "🎬 Top 10 Rekomendasi untuk User 1:\n",
      "\n",
      "909: Apartment, The (1960)\n",
      "1147: When We Were Kings (1996)\n",
      "1869: Black Dog (1998)\n",
      "2652: Curse of Frankenstein, The (1957)\n",
      "3352: Brown's Requiem (1998)\n",
      "3667: Rent-A-Cop (1988)\n",
      "5101: Richard Pryor Here and Now (1983)\n",
      "5313: Scorpion King, The (2002)\n",
      "6570: Lucía, Lucía (Hija del caníbal, La) (2003)\n"
     ]
    }
   ],
   "source": [
    "recommended_titles = movies_df[movies_df['movieId'].isin(recommended_ids)]\n",
    "\n",
    "print(\"🎬 Top 10 Rekomendasi untuk User 1:\\n\")\n",
    "for i, row in recommended_titles.iterrows():\n",
    "    print(f\"{row['movieId']}: {row['title']}\")"
   ]
  },
  {
   "cell_type": "code",
   "execution_count": null,
   "id": "68e7fbc4",
   "metadata": {},
   "outputs": [],
   "source": [
    "filtered_df = "
   ]
  }
 ],
 "metadata": {
  "kernelspec": {
   "display_name": "Python 3",
   "language": "python",
   "name": "python3"
  },
  "language_info": {
   "codemirror_mode": {
    "name": "ipython",
    "version": 3
   },
   "file_extension": ".py",
   "mimetype": "text/x-python",
   "name": "python",
   "nbconvert_exporter": "python",
   "pygments_lexer": "ipython3",
   "version": "3.11.6"
  }
 },
 "nbformat": 4,
 "nbformat_minor": 5
}
